{
 "cells": [
  {
   "cell_type": "code",
   "execution_count": null,
   "id": "e0e6125e-92ee-40de-951f-ecc94418b64f",
   "metadata": {
    "tags": []
   },
   "outputs": [
    {
     "name": "stdout",
     "output_type": "stream",
     "text": [
      "Введите год:\n"
     ]
    }
   ],
   "source": [
    "print (\"Введите год:\")\n",
    "year = int(input ())\n",
    "A = year % 4\n",
    "if A == 0 :\n",
    "    print (\"Висакосный год\")\n",
    "if A > 0 :\n",
    "    print (\"Обычный год\")\n"
   ]
  },
  {
   "cell_type": "code",
   "execution_count": null,
   "id": "3c066e7c-8de0-4719-a843-d39913b16ec4",
   "metadata": {},
   "outputs": [],
   "source": []
  }
 ],
 "metadata": {
  "kernelspec": {
   "display_name": "Python 3",
   "language": "python",
   "name": "python3"
  },
  "language_info": {
   "codemirror_mode": {
    "name": "ipython",
    "version": 3
   },
   "file_extension": ".py",
   "mimetype": "text/x-python",
   "name": "python",
   "nbconvert_exporter": "python",
   "pygments_lexer": "ipython3",
   "version": "3.7.2"
  }
 },
 "nbformat": 4,
 "nbformat_minor": 5
}
