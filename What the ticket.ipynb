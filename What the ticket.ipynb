{
 "cells": [
  {
   "cell_type": "code",
   "execution_count": null,
   "id": "c1f11f21-054e-42d2-baeb-608ea078ecc8",
   "metadata": {
    "tags": []
   },
   "outputs": [
    {
     "name": "stdout",
     "output_type": "stream",
     "text": [
      "Введите номер билета\n"
     ]
    }
   ],
   "source": [
    "print (\"Введите номер билета\")\n",
    "ticket = [int(ticket) for ticket in input()]\n",
    "if sum(ticket[:3]) == sum(ticket [3:]):\n",
    "    print (\"Счастливый билет\")\n",
    "if sum(ticket[:3]) != sum(ticket[3:]):\n",
    "    print (\"Несчастливый билет\")"
   ]
  },
  {
   "cell_type": "code",
   "execution_count": null,
   "id": "63d7388e-8fe7-4651-9856-2e8702a61c96",
   "metadata": {},
   "outputs": [],
   "source": []
  },
  {
   "cell_type": "code",
   "execution_count": null,
   "id": "a447dcbb-750e-4c9b-85b6-dee8013f7631",
   "metadata": {},
   "outputs": [],
   "source": []
  }
 ],
 "metadata": {
  "kernelspec": {
   "display_name": "Python 3",
   "language": "python",
   "name": "python3"
  },
  "language_info": {
   "codemirror_mode": {
    "name": "ipython",
    "version": 3
   },
   "file_extension": ".py",
   "mimetype": "text/x-python",
   "name": "python",
   "nbconvert_exporter": "python",
   "pygments_lexer": "ipython3",
   "version": "3.7.2"
  }
 },
 "nbformat": 4,
 "nbformat_minor": 5
}
